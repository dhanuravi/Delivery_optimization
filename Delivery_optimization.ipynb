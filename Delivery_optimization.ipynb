{
  "nbformat": 4,
  "nbformat_minor": 0,
  "metadata": {
    "colab": {
      "name": "Delivery_optimization.ipynb",
      "provenance": [],
      "collapsed_sections": []
    },
    "kernelspec": {
      "name": "python3",
      "display_name": "Python 3"
    },
    "language_info": {
      "name": "python"
    }
  },
  "cells": [
    {
      "cell_type": "code",
      "metadata": {
        "colab": {
          "base_uri": "https://localhost:8080/"
        },
        "id": "8yKUxbQpQbHD",
        "outputId": "b093cc6b-2c7e-47d0-b6f6-54c4e604a323"
      },
      "source": [
        "!pip install ortools"
      ],
      "execution_count": null,
      "outputs": [
        {
          "output_type": "stream",
          "text": [
            "Requirement already satisfied: ortools in /usr/local/lib/python3.7/dist-packages (9.0.9048)\n",
            "Requirement already satisfied: protobuf>=3.15.8 in /usr/local/lib/python3.7/dist-packages (from ortools) (3.17.0)\n",
            "Requirement already satisfied: absl-py>=0.11 in /usr/local/lib/python3.7/dist-packages (from ortools) (0.12.0)\n",
            "Requirement already satisfied: six>=1.9 in /usr/local/lib/python3.7/dist-packages (from protobuf>=3.15.8->ortools) (1.15.0)\n"
          ],
          "name": "stdout"
        }
      ]
    },
    {
      "cell_type": "markdown",
      "metadata": {
        "id": "IKv0uGts7GJ3"
      },
      "source": [
        "#Using Google OR tools"
      ]
    },
    {
      "cell_type": "code",
      "metadata": {
        "id": "pcgCwxnS7BeW"
      },
      "source": [
        "from ortools.constraint_solver import routing_enums_pb2\n",
        "from ortools.constraint_solver import pywrapcp\n",
        "\n",
        "\n",
        "def create_data_model():\n",
        "    \"\"\"Stores the data for the problem.\"\"\"\n",
        "    data = {}\n",
        "    data['distance_matrix'] = [\n",
        "        [\n",
        "            0, 548, 776, 696, 582, 274, 502, 194, 308, 194, 536, 502, 388, 354,\n",
        "            468, 776, 662\n",
        "        ],\n",
        "        [\n",
        "            548, 0, 684, 308, 194, 502, 730, 354, 696, 742, 1084, 594, 480, 674,1016, 868, 1210\n",
        "        ],\n",
        "        [\n",
        "            776, 684, 0, 992, 878, 502, 274, 810, 468, 742, 400, 1278, 1164,1130, 788, 1552, 754\n",
        "        ],\n",
        "        [\n",
        "            696, 308, 992, 0, 114, 650, 878, 502, 844, 890, 1232, 514, 628, 822,1164, 560, 1358\n",
        "        ],\n",
        "        [\n",
        "            582, 194, 878, 114, 0, 536, 764, 388, 730, 776, 1118, 400, 514, 708,1050, 674, 1244\n",
        "        ],\n",
        "        [\n",
        "            274, 502, 502, 650, 536, 0, 228, 308, 194, 240, 582, 776, 662, 628,514, 1050, 708\n",
        "        ],\n",
        "        [\n",
        "            502, 730, 274, 878, 764, 228, 0, 536, 194, 468, 354, 1004, 890, 856,514, 1278, 480\n",
        "        ],\n",
        "        [\n",
        "            194, 354, 810, 502, 388, 308, 536, 0, 342, 388, 730, 468, 354, 320,662, 742, 856\n",
        "        ],\n",
        "        [\n",
        "            308, 696, 468, 844, 730, 194, 194, 342, 0, 274, 388, 810, 696, 662,320, 1084, 514\n",
        "        ],\n",
        "        [\n",
        "            194, 742, 742, 890, 776, 240, 468, 388, 274, 0, 342, 536, 422, 388,274, 810, 468\n",
        "        ],\n",
        "        [\n",
        "            536, 1084, 400, 1232, 1118, 582, 354, 730, 388, 342, 0, 878, 764,730, 388, 1152, 354\n",
        "        ],\n",
        "        [\n",
        "            502, 594, 1278, 514, 400, 776, 1004, 468, 810, 536, 878, 0, 114,308, 650, 274, 844\n",
        "        ],\n",
        "        [\n",
        "            388, 480, 1164, 628, 514, 662, 890, 354, 696, 422, 764, 114, 0, 194,536, 388, 730\n",
        "        ],\n",
        "        [\n",
        "            354, 674, 1130, 822, 708, 628, 856, 320, 662, 388, 730, 308, 194, 0,342, 422, 536\n",
        "        ],\n",
        "        [\n",
        "            468, 1016, 788, 1164, 1050, 514, 514, 662, 320, 274, 388, 650, 536,342, 0, 764, 194\n",
        "        ],\n",
        "        [\n",
        "            776, 868, 1552, 560, 674, 1050, 1278, 742, 1084, 810, 1152, 274,388, 422, 764, 0, 798\n",
        "        ],\n",
        "        [\n",
        "            662, 1210, 754, 1358, 1244, 708, 480, 856, 514, 468, 354, 844, 730,536, 194, 798, 0\n",
        "        ],\n",
        "    ]\n",
        "    data['num_vehicles'] = 4\n",
        "    data['depot'] = 0\n",
        "    return data\n",
        "\n",
        "\n",
        "def print_solution(data, manager, routing, solution):\n",
        "    \"\"\"Prints solution on console.\"\"\"\n",
        "    print(f'Objective: {solution.ObjectiveValue()}')\n",
        "    max_route_distance = 0\n",
        "    for vehicle_id in range(data['num_vehicles']):\n",
        "        index = routing.Start(vehicle_id)\n",
        "        plan_output = 'Route for vehicle {}:\\n'.format(vehicle_id)\n",
        "        route_distance = 0\n",
        "        while not routing.IsEnd(index):\n",
        "            plan_output += ' {} -> '.format(manager.IndexToNode(index))\n",
        "            previous_index = index\n",
        "            index = solution.Value(routing.NextVar(index))\n",
        "            route_distance += routing.GetArcCostForVehicle(\n",
        "                previous_index, index, vehicle_id)\n",
        "        plan_output += '{}\\n'.format(manager.IndexToNode(index))\n",
        "        plan_output += 'Distance of the route: {}m\\n'.format(route_distance)\n",
        "        print(plan_output)\n",
        "        max_route_distance = max(route_distance, max_route_distance)\n",
        "    print('Maximum of the route distances: {}m'.format(max_route_distance))\n",
        "\n",
        "\n",
        "\n",
        "def main():\n",
        "    \"\"\"Entry point of the program.\"\"\"\n",
        "    # Instantiate the data problem.\n",
        "    data = create_data_model()\n",
        "\n",
        "    # Create the routing index manager.\n",
        "    manager = pywrapcp.RoutingIndexManager(len(data['distance_matrix']),\n",
        "                                           data['num_vehicles'], data['depot'])\n",
        "\n",
        "    # Create Routing Model.\n",
        "    routing = pywrapcp.RoutingModel(manager)\n",
        "\n",
        "\n",
        "    # Create and register a transit callback.\n",
        "    def distance_callback(from_index, to_index):\n",
        "        \"\"\"Returns the distance between the two nodes.\"\"\"\n",
        "        # Convert from routing variable Index to distance matrix NodeIndex.\n",
        "        from_node = manager.IndexToNode(from_index)\n",
        "        to_node = manager.IndexToNode(to_index)\n",
        "        return data['distance_matrix'][from_node][to_node]\n",
        "\n",
        "    transit_callback_index = routing.RegisterTransitCallback(distance_callback)\n",
        "\n",
        "    # Define cost of each arc.\n",
        "    routing.SetArcCostEvaluatorOfAllVehicles(transit_callback_index)\n",
        "\n",
        "    # Add Distance constraint.\n",
        "    dimension_name = 'Distance'\n",
        "    routing.AddDimension(\n",
        "        transit_callback_index,\n",
        "        0,  # no slack\n",
        "        3000,  # vehicle maximum travel distance\n",
        "        True,  # start cumul to zero\n",
        "        dimension_name)\n",
        "    distance_dimension = routing.GetDimensionOrDie(dimension_name)\n",
        "    distance_dimension.SetGlobalSpanCostCoefficient(100)\n",
        "\n",
        "    # Setting first solution heuristic.\n",
        "    search_parameters = pywrapcp.DefaultRoutingSearchParameters()\n",
        "    search_parameters.first_solution_strategy = (\n",
        "        routing_enums_pb2.FirstSolutionStrategy.PATH_CHEAPEST_ARC)\n",
        "\n",
        "    # Solve the problem.\n",
        "    solution = routing.SolveWithParameters(search_parameters)\n",
        "\n",
        "    # Print solution on console.\n",
        "    if solution:\n",
        "        print_solution(data, manager, routing, solution)\n",
        "    else:\n",
        "        print('No solution found !')\n",
        "\n",
        "\n",
        "if __name__ == '__main__':\n",
        "    main()"
      ],
      "execution_count": null,
      "outputs": []
    },
    {
      "cell_type": "code",
      "metadata": {
        "id": "hi2UNl667ITB"
      },
      "source": [
        "data={}"
      ],
      "execution_count": null,
      "outputs": []
    },
    {
      "cell_type": "code",
      "metadata": {
        "id": "RZqn4TikQoUQ"
      },
      "source": [
        "data['distance_matrix'] = [\n",
        "        [\n",
        "            0, 548, 776, 696, 582, 274, 502, 194, 308, 194, 536, 502, 388, 354,\n",
        "            468, 776, 662\n",
        "        ],\n",
        "        [\n",
        "            548, 0, 684, 308, 194, 502, 730, 354, 696, 742, 1084, 594, 480, 674,1016, 868, 1210\n",
        "        ],\n",
        "        [\n",
        "            776, 684, 0, 992, 878, 502, 274, 810, 468, 742, 400, 1278, 1164,1130, 788, 1552, 754\n",
        "        ],\n",
        "        [\n",
        "            696, 308, 992, 0, 114, 650, 878, 502, 844, 890, 1232, 514, 628, 822,1164, 560, 1358\n",
        "        ],\n",
        "        [\n",
        "            582, 194, 878, 114, 0, 536, 764, 388, 730, 776, 1118, 400, 514, 708,1050, 674, 1244\n",
        "        ],\n",
        "        [\n",
        "            274, 502, 502, 650, 536, 0, 228, 308, 194, 240, 582, 776, 662, 628,514, 1050, 708\n",
        "        ],\n",
        "        [\n",
        "            502, 730, 274, 878, 764, 228, 0, 536, 194, 468, 354, 1004, 890, 856,514, 1278, 480\n",
        "        ],\n",
        "        [\n",
        "            194, 354, 810, 502, 388, 308, 536, 0, 342, 388, 730, 468, 354, 320,662, 742, 856\n",
        "        ],\n",
        "        [\n",
        "            308, 696, 468, 844, 730, 194, 194, 342, 0, 274, 388, 810, 696, 662,320, 1084, 514\n",
        "        ],\n",
        "        [\n",
        "            194, 742, 742, 890, 776, 240, 468, 388, 274, 0, 342, 536, 422, 388,274, 810, 468\n",
        "        ],\n",
        "        [\n",
        "            536, 1084, 400, 1232, 1118, 582, 354, 730, 388, 342, 0, 878, 764,730, 388, 1152, 354\n",
        "        ],\n",
        "        [\n",
        "            502, 594, 1278, 514, 400, 776, 1004, 468, 810, 536, 878, 0, 114,308, 650, 274, 844\n",
        "        ],\n",
        "        [\n",
        "            388, 480, 1164, 628, 514, 662, 890, 354, 696, 422, 764, 114, 0, 194,536, 388, 730\n",
        "        ],\n",
        "        [\n",
        "            354, 674, 1130, 822, 708, 628, 856, 320, 662, 388, 730, 308, 194, 0,342, 422, 536\n",
        "        ],\n",
        "        [\n",
        "            468, 1016, 788, 1164, 1050, 514, 514, 662, 320, 274, 388, 650, 536,342, 0, 764, 194\n",
        "        ],\n",
        "        [\n",
        "            776, 868, 1552, 560, 674, 1050, 1278, 742, 1084, 810, 1152, 274,388, 422, 764, 0, 798\n",
        "        ],\n",
        "        [\n",
        "            662, 1210, 754, 1358, 1244, 708, 480, 856, 514, 468, 354, 844, 730,536, 194, 798, 0\n",
        "        ],\n",
        "    ]"
      ],
      "execution_count": null,
      "outputs": []
    },
    {
      "cell_type": "code",
      "metadata": {
        "colab": {
          "base_uri": "https://localhost:8080/"
        },
        "id": "vkF3s3Sf-ezK",
        "outputId": "c0e60926-6f97-44c6-e291-64d89c6bdcdf"
      },
      "source": [
        "data['distance_matrix']"
      ],
      "execution_count": null,
      "outputs": [
        {
          "output_type": "execute_result",
          "data": {
            "text/plain": [
              "[[0,\n",
              "  548,\n",
              "  776,\n",
              "  696,\n",
              "  582,\n",
              "  274,\n",
              "  502,\n",
              "  194,\n",
              "  308,\n",
              "  194,\n",
              "  536,\n",
              "  502,\n",
              "  388,\n",
              "  354,\n",
              "  468,\n",
              "  776,\n",
              "  662],\n",
              " [548,\n",
              "  0,\n",
              "  684,\n",
              "  308,\n",
              "  194,\n",
              "  502,\n",
              "  730,\n",
              "  354,\n",
              "  696,\n",
              "  742,\n",
              "  1084,\n",
              "  594,\n",
              "  480,\n",
              "  674,\n",
              "  1016,\n",
              "  868,\n",
              "  1210],\n",
              " [776,\n",
              "  684,\n",
              "  0,\n",
              "  992,\n",
              "  878,\n",
              "  502,\n",
              "  274,\n",
              "  810,\n",
              "  468,\n",
              "  742,\n",
              "  400,\n",
              "  1278,\n",
              "  1164,\n",
              "  1130,\n",
              "  788,\n",
              "  1552,\n",
              "  754],\n",
              " [696,\n",
              "  308,\n",
              "  992,\n",
              "  0,\n",
              "  114,\n",
              "  650,\n",
              "  878,\n",
              "  502,\n",
              "  844,\n",
              "  890,\n",
              "  1232,\n",
              "  514,\n",
              "  628,\n",
              "  822,\n",
              "  1164,\n",
              "  560,\n",
              "  1358],\n",
              " [582,\n",
              "  194,\n",
              "  878,\n",
              "  114,\n",
              "  0,\n",
              "  536,\n",
              "  764,\n",
              "  388,\n",
              "  730,\n",
              "  776,\n",
              "  1118,\n",
              "  400,\n",
              "  514,\n",
              "  708,\n",
              "  1050,\n",
              "  674,\n",
              "  1244],\n",
              " [274,\n",
              "  502,\n",
              "  502,\n",
              "  650,\n",
              "  536,\n",
              "  0,\n",
              "  228,\n",
              "  308,\n",
              "  194,\n",
              "  240,\n",
              "  582,\n",
              "  776,\n",
              "  662,\n",
              "  628,\n",
              "  514,\n",
              "  1050,\n",
              "  708],\n",
              " [502,\n",
              "  730,\n",
              "  274,\n",
              "  878,\n",
              "  764,\n",
              "  228,\n",
              "  0,\n",
              "  536,\n",
              "  194,\n",
              "  468,\n",
              "  354,\n",
              "  1004,\n",
              "  890,\n",
              "  856,\n",
              "  514,\n",
              "  1278,\n",
              "  480],\n",
              " [194,\n",
              "  354,\n",
              "  810,\n",
              "  502,\n",
              "  388,\n",
              "  308,\n",
              "  536,\n",
              "  0,\n",
              "  342,\n",
              "  388,\n",
              "  730,\n",
              "  468,\n",
              "  354,\n",
              "  320,\n",
              "  662,\n",
              "  742,\n",
              "  856],\n",
              " [308,\n",
              "  696,\n",
              "  468,\n",
              "  844,\n",
              "  730,\n",
              "  194,\n",
              "  194,\n",
              "  342,\n",
              "  0,\n",
              "  274,\n",
              "  388,\n",
              "  810,\n",
              "  696,\n",
              "  662,\n",
              "  320,\n",
              "  1084,\n",
              "  514],\n",
              " [194,\n",
              "  742,\n",
              "  742,\n",
              "  890,\n",
              "  776,\n",
              "  240,\n",
              "  468,\n",
              "  388,\n",
              "  274,\n",
              "  0,\n",
              "  342,\n",
              "  536,\n",
              "  422,\n",
              "  388,\n",
              "  274,\n",
              "  810,\n",
              "  468],\n",
              " [536,\n",
              "  1084,\n",
              "  400,\n",
              "  1232,\n",
              "  1118,\n",
              "  582,\n",
              "  354,\n",
              "  730,\n",
              "  388,\n",
              "  342,\n",
              "  0,\n",
              "  878,\n",
              "  764,\n",
              "  730,\n",
              "  388,\n",
              "  1152,\n",
              "  354],\n",
              " [502,\n",
              "  594,\n",
              "  1278,\n",
              "  514,\n",
              "  400,\n",
              "  776,\n",
              "  1004,\n",
              "  468,\n",
              "  810,\n",
              "  536,\n",
              "  878,\n",
              "  0,\n",
              "  114,\n",
              "  308,\n",
              "  650,\n",
              "  274,\n",
              "  844],\n",
              " [388,\n",
              "  480,\n",
              "  1164,\n",
              "  628,\n",
              "  514,\n",
              "  662,\n",
              "  890,\n",
              "  354,\n",
              "  696,\n",
              "  422,\n",
              "  764,\n",
              "  114,\n",
              "  0,\n",
              "  194,\n",
              "  536,\n",
              "  388,\n",
              "  730],\n",
              " [354,\n",
              "  674,\n",
              "  1130,\n",
              "  822,\n",
              "  708,\n",
              "  628,\n",
              "  856,\n",
              "  320,\n",
              "  662,\n",
              "  388,\n",
              "  730,\n",
              "  308,\n",
              "  194,\n",
              "  0,\n",
              "  342,\n",
              "  422,\n",
              "  536],\n",
              " [468,\n",
              "  1016,\n",
              "  788,\n",
              "  1164,\n",
              "  1050,\n",
              "  514,\n",
              "  514,\n",
              "  662,\n",
              "  320,\n",
              "  274,\n",
              "  388,\n",
              "  650,\n",
              "  536,\n",
              "  342,\n",
              "  0,\n",
              "  764,\n",
              "  194],\n",
              " [776,\n",
              "  868,\n",
              "  1552,\n",
              "  560,\n",
              "  674,\n",
              "  1050,\n",
              "  1278,\n",
              "  742,\n",
              "  1084,\n",
              "  810,\n",
              "  1152,\n",
              "  274,\n",
              "  388,\n",
              "  422,\n",
              "  764,\n",
              "  0,\n",
              "  798],\n",
              " [662,\n",
              "  1210,\n",
              "  754,\n",
              "  1358,\n",
              "  1244,\n",
              "  708,\n",
              "  480,\n",
              "  856,\n",
              "  514,\n",
              "  468,\n",
              "  354,\n",
              "  844,\n",
              "  730,\n",
              "  536,\n",
              "  194,\n",
              "  798,\n",
              "  0]]"
            ]
          },
          "metadata": {
            "tags": []
          },
          "execution_count": 26
        }
      ]
    },
    {
      "cell_type": "code",
      "metadata": {
        "id": "s0vmz0Lo7Apr"
      },
      "source": [
        "#import libraries\n",
        "import pandas as pd\n",
        "import numpy as np\n",
        "import random as rd\n",
        "import matplotlib.pyplot as plt"
      ],
      "execution_count": null,
      "outputs": []
    },
    {
      "cell_type": "code",
      "metadata": {
        "id": "Pw_q2_vb73i5"
      },
      "source": [
        "location=[(456, 320), \n",
        "(228, 0),\n",
        "(912, 0), \n",
        "(0, 80), \n",
        "(114, 80),   \n",
        "(570, 160),  \n",
        "(798, 160),  \n",
        "(342, 240),  \n",
        "(684, 240),  \n",
        "(570, 400),  \n",
        "(912, 400),  \n",
        "(114, 480),  \n",
        "(228, 480),  \n",
        "(342, 560),  \n",
        "(684, 560),  \n",
        "(0, 640),    \n",
        "(798, 640)] "
      ],
      "execution_count": null,
      "outputs": []
    },
    {
      "cell_type": "code",
      "metadata": {
        "colab": {
          "base_uri": "https://localhost:8080/"
        },
        "id": "hJqPTPgo8Ic5",
        "outputId": "ee39b9e6-0141-4cf4-950e-219b2b06b363"
      },
      "source": [
        "location"
      ],
      "execution_count": null,
      "outputs": [
        {
          "output_type": "execute_result",
          "data": {
            "text/plain": [
              "[(456, 320),\n",
              " (228, 0),\n",
              " (912, 0),\n",
              " (0, 80),\n",
              " (114, 80),\n",
              " (570, 160),\n",
              " (798, 160),\n",
              " (342, 240),\n",
              " (684, 240),\n",
              " (570, 400),\n",
              " (912, 400),\n",
              " (114, 480),\n",
              " (228, 480),\n",
              " (342, 560),\n",
              " (684, 560),\n",
              " (0, 640),\n",
              " (798, 640)]"
            ]
          },
          "metadata": {
            "tags": []
          },
          "execution_count": 8
        }
      ]
    },
    {
      "cell_type": "code",
      "metadata": {
        "colab": {
          "base_uri": "https://localhost:8080/"
        },
        "id": "hN5-bR6n9Vbo",
        "outputId": "6f6b10ac-6c9d-4516-ed2f-909598d27d62"
      },
      "source": [
        "location1 =  [list( map(int,i) ) for i in location]\n",
        "location1"
      ],
      "execution_count": null,
      "outputs": [
        {
          "output_type": "execute_result",
          "data": {
            "text/plain": [
              "[[456, 320],\n",
              " [228, 0],\n",
              " [912, 0],\n",
              " [0, 80],\n",
              " [114, 80],\n",
              " [570, 160],\n",
              " [798, 160],\n",
              " [342, 240],\n",
              " [684, 240],\n",
              " [570, 400],\n",
              " [912, 400],\n",
              " [114, 480],\n",
              " [228, 480],\n",
              " [342, 560],\n",
              " [684, 560],\n",
              " [0, 640],\n",
              " [798, 640]]"
            ]
          },
          "metadata": {
            "tags": []
          },
          "execution_count": 9
        }
      ]
    },
    {
      "cell_type": "code",
      "metadata": {
        "colab": {
          "base_uri": "https://localhost:8080/",
          "height": 582
        },
        "id": "rNld3JBL8R9r",
        "outputId": "48a02675-1cd2-4050-9e30-b3c56a35e9c2"
      },
      "source": [
        "df_location = pd.DataFrame(location1, columns=list('xy'))\n",
        "df_location"
      ],
      "execution_count": null,
      "outputs": [
        {
          "output_type": "execute_result",
          "data": {
            "text/html": [
              "<div>\n",
              "<style scoped>\n",
              "    .dataframe tbody tr th:only-of-type {\n",
              "        vertical-align: middle;\n",
              "    }\n",
              "\n",
              "    .dataframe tbody tr th {\n",
              "        vertical-align: top;\n",
              "    }\n",
              "\n",
              "    .dataframe thead th {\n",
              "        text-align: right;\n",
              "    }\n",
              "</style>\n",
              "<table border=\"1\" class=\"dataframe\">\n",
              "  <thead>\n",
              "    <tr style=\"text-align: right;\">\n",
              "      <th></th>\n",
              "      <th>x</th>\n",
              "      <th>y</th>\n",
              "    </tr>\n",
              "  </thead>\n",
              "  <tbody>\n",
              "    <tr>\n",
              "      <th>0</th>\n",
              "      <td>456</td>\n",
              "      <td>320</td>\n",
              "    </tr>\n",
              "    <tr>\n",
              "      <th>1</th>\n",
              "      <td>228</td>\n",
              "      <td>0</td>\n",
              "    </tr>\n",
              "    <tr>\n",
              "      <th>2</th>\n",
              "      <td>912</td>\n",
              "      <td>0</td>\n",
              "    </tr>\n",
              "    <tr>\n",
              "      <th>3</th>\n",
              "      <td>0</td>\n",
              "      <td>80</td>\n",
              "    </tr>\n",
              "    <tr>\n",
              "      <th>4</th>\n",
              "      <td>114</td>\n",
              "      <td>80</td>\n",
              "    </tr>\n",
              "    <tr>\n",
              "      <th>5</th>\n",
              "      <td>570</td>\n",
              "      <td>160</td>\n",
              "    </tr>\n",
              "    <tr>\n",
              "      <th>6</th>\n",
              "      <td>798</td>\n",
              "      <td>160</td>\n",
              "    </tr>\n",
              "    <tr>\n",
              "      <th>7</th>\n",
              "      <td>342</td>\n",
              "      <td>240</td>\n",
              "    </tr>\n",
              "    <tr>\n",
              "      <th>8</th>\n",
              "      <td>684</td>\n",
              "      <td>240</td>\n",
              "    </tr>\n",
              "    <tr>\n",
              "      <th>9</th>\n",
              "      <td>570</td>\n",
              "      <td>400</td>\n",
              "    </tr>\n",
              "    <tr>\n",
              "      <th>10</th>\n",
              "      <td>912</td>\n",
              "      <td>400</td>\n",
              "    </tr>\n",
              "    <tr>\n",
              "      <th>11</th>\n",
              "      <td>114</td>\n",
              "      <td>480</td>\n",
              "    </tr>\n",
              "    <tr>\n",
              "      <th>12</th>\n",
              "      <td>228</td>\n",
              "      <td>480</td>\n",
              "    </tr>\n",
              "    <tr>\n",
              "      <th>13</th>\n",
              "      <td>342</td>\n",
              "      <td>560</td>\n",
              "    </tr>\n",
              "    <tr>\n",
              "      <th>14</th>\n",
              "      <td>684</td>\n",
              "      <td>560</td>\n",
              "    </tr>\n",
              "    <tr>\n",
              "      <th>15</th>\n",
              "      <td>0</td>\n",
              "      <td>640</td>\n",
              "    </tr>\n",
              "    <tr>\n",
              "      <th>16</th>\n",
              "      <td>798</td>\n",
              "      <td>640</td>\n",
              "    </tr>\n",
              "  </tbody>\n",
              "</table>\n",
              "</div>"
            ],
            "text/plain": [
              "      x    y\n",
              "0   456  320\n",
              "1   228    0\n",
              "2   912    0\n",
              "3     0   80\n",
              "4   114   80\n",
              "5   570  160\n",
              "6   798  160\n",
              "7   342  240\n",
              "8   684  240\n",
              "9   570  400\n",
              "10  912  400\n",
              "11  114  480\n",
              "12  228  480\n",
              "13  342  560\n",
              "14  684  560\n",
              "15    0  640\n",
              "16  798  640"
            ]
          },
          "metadata": {
            "tags": []
          },
          "execution_count": 10
        }
      ]
    },
    {
      "cell_type": "code",
      "metadata": {
        "colab": {
          "base_uri": "https://localhost:8080/",
          "height": 279
        },
        "id": "Z9oySFoL8nu8",
        "outputId": "a0b8b77b-a661-4124-e64a-2ab6cca1e7d0"
      },
      "source": [
        "plt.scatter(df_location['x'],df_location['y'],c='green')\n",
        "plt.xlabel('X')\n",
        "plt.ylabel('Y')\n",
        "plt.show()"
      ],
      "execution_count": null,
      "outputs": [
        {
          "output_type": "display_data",
          "data": {
            "image/png": "[encoded data removed]",
            "text/plain": [
              "<Figure size 432x288 with 1 Axes>"
            ]
          },
          "metadata": {
            "tags": [],
            "needs_background": "light"
          }
        }
      ]
    },
    {
      "cell_type": "markdown",
      "metadata": {
        "id": "acXtNfYU66GL"
      },
      "source": [
        "#Using K-means Cluster"
      ]
    },
    {
      "cell_type": "code",
      "metadata": {
        "colab": {
          "base_uri": "https://localhost:8080/"
        },
        "id": "U3OE5Wqo98oZ",
        "outputId": "5db8302b-6788-435a-c0e8-715e2f339bb6"
      },
      "source": [
        "from sklearn.cluster import KMeans\n",
        "kmeans = KMeans(n_clusters=4, init='k-means++')\n",
        "\n",
        "# fitting the k means algorithm on scaled data\n",
        "kmeans.fit(data['distance_matrix'])"
      ],
      "execution_count": null,
      "outputs": [
        {
          "output_type": "execute_result",
          "data": {
            "text/plain": [
              "KMeans(algorithm='auto', copy_x=True, init='k-means++', max_iter=300,\n",
              "       n_clusters=4, n_init=10, n_jobs=None, precompute_distances='auto',\n",
              "       random_state=None, tol=0.0001, verbose=0)"
            ]
          },
          "metadata": {
            "tags": []
          },
          "execution_count": 12
        }
      ]
    },
    {
      "cell_type": "code",
      "metadata": {
        "colab": {
          "base_uri": "https://localhost:8080/"
        },
        "id": "58WZhdkp-jRF",
        "outputId": "2f12d442-962b-4a97-e08c-44071fea04a3"
      },
      "source": [
        "kmeans.inertia_"
      ],
      "execution_count": null,
      "outputs": [
        {
          "output_type": "execute_result",
          "data": {
            "text/plain": [
              "7843008.19047619"
            ]
          },
          "metadata": {
            "tags": []
          },
          "execution_count": 31
        }
      ]
    },
    {
      "cell_type": "code",
      "metadata": {
        "colab": {
          "base_uri": "https://localhost:8080/",
          "height": 418
        },
        "id": "jdK17P6u-uES",
        "outputId": "68812b3e-cddd-4a48-c9ba-8774fdf7a950"
      },
      "source": [
        "SSE = []\n",
        "for cluster in range(1,5):\n",
        "    kmeans = KMeans(n_jobs = -1, n_clusters = cluster, init='k-means++')\n",
        "    kmeans.fit(data['distance_matrix'])\n",
        "    SSE.append(kmeans.inertia_)\n",
        "\n",
        "# converting the results into a dataframe and plotting them\n",
        "frame = pd.DataFrame({'Cluster':range(1,5), 'SSE':SSE})\n",
        "plt.figure(figsize=(12,6))\n",
        "plt.plot(frame['Cluster'], frame['SSE'], marker='o')\n",
        "plt.xlabel('Number of clusters')\n",
        "plt.ylabel('Inertia')"
      ],
      "execution_count": null,
      "outputs": [
        {
          "output_type": "execute_result",
          "data": {
            "text/plain": [
              "Text(0, 0.5, 'Inertia')"
            ]
          },
          "metadata": {
            "tags": []
          },
          "execution_count": 34
        },
        {
          "output_type": "display_data",
          "data": {
            "image/png": "[encoded data removed]",
            "text/plain": [
              "<Figure size 864x432 with 1 Axes>"
            ]
          },
          "metadata": {
            "tags": [],
            "needs_background": "light"
          }
        }
      ]
    },
    {
      "cell_type": "code",
      "metadata": {
        "id": "ghNcKt_6_BzQ"
      },
      "source": [
        "kmeans = KMeans(n_jobs = -1, n_clusters = 4, init='k-means++')\n",
        "kmeans.fit(df_location)\n",
        "pred = kmeans.predict(df_location)"
      ],
      "execution_count": null,
      "outputs": []
    },
    {
      "cell_type": "code",
      "metadata": {
        "colab": {
          "base_uri": "https://localhost:8080/"
        },
        "id": "TB0RxO17_fuC",
        "outputId": "f1d46862-541d-4c8d-88bf-ef3958e1e989"
      },
      "source": [
        "#frame = pd.DataFrame(df_location)\n",
        "df_location['Pred_Cluster'] = pred\n",
        "df_location['Pred_Cluster'].value_counts()"
      ],
      "execution_count": null,
      "outputs": [
        {
          "output_type": "execute_result",
          "data": {
            "text/plain": [
              "1    5\n",
              "3    4\n",
              "2    4\n",
              "0    4\n",
              "Name: Pred_Cluster, dtype: int64"
            ]
          },
          "metadata": {
            "tags": []
          },
          "execution_count": 15
        }
      ]
    },
    {
      "cell_type": "code",
      "metadata": {
        "colab": {
          "base_uri": "https://localhost:8080/",
          "height": 582
        },
        "id": "9j4_sX-K_kVp",
        "outputId": "58364075-4281-4b9e-9b36-f2725a847333"
      },
      "source": [
        "df_location\n"
      ],
      "execution_count": null,
      "outputs": [
        {
          "output_type": "execute_result",
          "data": {
            "text/html": [
              "<div>\n",
              "<style scoped>\n",
              "    .dataframe tbody tr th:only-of-type {\n",
              "        vertical-align: middle;\n",
              "    }\n",
              "\n",
              "    .dataframe tbody tr th {\n",
              "        vertical-align: top;\n",
              "    }\n",
              "\n",
              "    .dataframe thead th {\n",
              "        text-align: right;\n",
              "    }\n",
              "</style>\n",
              "<table border=\"1\" class=\"dataframe\">\n",
              "  <thead>\n",
              "    <tr style=\"text-align: right;\">\n",
              "      <th></th>\n",
              "      <th>x</th>\n",
              "      <th>y</th>\n",
              "      <th>Pred_Cluster</th>\n",
              "    </tr>\n",
              "  </thead>\n",
              "  <tbody>\n",
              "    <tr>\n",
              "      <th>0</th>\n",
              "      <td>456</td>\n",
              "      <td>320</td>\n",
              "      <td>1</td>\n",
              "    </tr>\n",
              "    <tr>\n",
              "      <th>1</th>\n",
              "      <td>228</td>\n",
              "      <td>0</td>\n",
              "      <td>2</td>\n",
              "    </tr>\n",
              "    <tr>\n",
              "      <th>2</th>\n",
              "      <td>912</td>\n",
              "      <td>0</td>\n",
              "      <td>1</td>\n",
              "    </tr>\n",
              "    <tr>\n",
              "      <th>3</th>\n",
              "      <td>0</td>\n",
              "      <td>80</td>\n",
              "      <td>2</td>\n",
              "    </tr>\n",
              "    <tr>\n",
              "      <th>4</th>\n",
              "      <td>114</td>\n",
              "      <td>80</td>\n",
              "      <td>2</td>\n",
              "    </tr>\n",
              "    <tr>\n",
              "      <th>5</th>\n",
              "      <td>570</td>\n",
              "      <td>160</td>\n",
              "      <td>1</td>\n",
              "    </tr>\n",
              "    <tr>\n",
              "      <th>6</th>\n",
              "      <td>798</td>\n",
              "      <td>160</td>\n",
              "      <td>1</td>\n",
              "    </tr>\n",
              "    <tr>\n",
              "      <th>7</th>\n",
              "      <td>342</td>\n",
              "      <td>240</td>\n",
              "      <td>2</td>\n",
              "    </tr>\n",
              "    <tr>\n",
              "      <th>8</th>\n",
              "      <td>684</td>\n",
              "      <td>240</td>\n",
              "      <td>1</td>\n",
              "    </tr>\n",
              "    <tr>\n",
              "      <th>9</th>\n",
              "      <td>570</td>\n",
              "      <td>400</td>\n",
              "      <td>3</td>\n",
              "    </tr>\n",
              "    <tr>\n",
              "      <th>10</th>\n",
              "      <td>912</td>\n",
              "      <td>400</td>\n",
              "      <td>3</td>\n",
              "    </tr>\n",
              "    <tr>\n",
              "      <th>11</th>\n",
              "      <td>114</td>\n",
              "      <td>480</td>\n",
              "      <td>0</td>\n",
              "    </tr>\n",
              "    <tr>\n",
              "      <th>12</th>\n",
              "      <td>228</td>\n",
              "      <td>480</td>\n",
              "      <td>0</td>\n",
              "    </tr>\n",
              "    <tr>\n",
              "      <th>13</th>\n",
              "      <td>342</td>\n",
              "      <td>560</td>\n",
              "      <td>0</td>\n",
              "    </tr>\n",
              "    <tr>\n",
              "      <th>14</th>\n",
              "      <td>684</td>\n",
              "      <td>560</td>\n",
              "      <td>3</td>\n",
              "    </tr>\n",
              "    <tr>\n",
              "      <th>15</th>\n",
              "      <td>0</td>\n",
              "      <td>640</td>\n",
              "      <td>0</td>\n",
              "    </tr>\n",
              "    <tr>\n",
              "      <th>16</th>\n",
              "      <td>798</td>\n",
              "      <td>640</td>\n",
              "      <td>3</td>\n",
              "    </tr>\n",
              "  </tbody>\n",
              "</table>\n",
              "</div>"
            ],
            "text/plain": [
              "      x    y  Pred_Cluster\n",
              "0   456  320             1\n",
              "1   228    0             2\n",
              "2   912    0             1\n",
              "3     0   80             2\n",
              "4   114   80             2\n",
              "5   570  160             1\n",
              "6   798  160             1\n",
              "7   342  240             2\n",
              "8   684  240             1\n",
              "9   570  400             3\n",
              "10  912  400             3\n",
              "11  114  480             0\n",
              "12  228  480             0\n",
              "13  342  560             0\n",
              "14  684  560             3\n",
              "15    0  640             0\n",
              "16  798  640             3"
            ]
          },
          "metadata": {
            "tags": []
          },
          "execution_count": 16
        }
      ]
    },
    {
      "cell_type": "code",
      "metadata": {
        "colab": {
          "base_uri": "https://localhost:8080/",
          "height": 279
        },
        "id": "y2matj8PBGRM",
        "outputId": "e90c0f0a-760d-4b81-d1a8-a3ca851b0b85"
      },
      "source": [
        "k=4\n",
        "color=['blue','green','cyan','red']\n",
        "for k in range(0,k):\n",
        "    dataa=df_location[df_location[\"Pred_Cluster\"]==k]\n",
        "    plt.scatter(dataa[\"x\"],dataa[\"y\"],c=color[k])\n",
        "#plt.scatter(Centroids[\"ApplicantIncome\"],Centroids[\"LoanAmount\"],c='red')\n",
        "plt.xlabel('x')\n",
        "plt.ylabel('y')\n",
        "plt.show()"
      ],
      "execution_count": null,
      "outputs": [
        {
          "output_type": "display_data",
          "data": {
            "image/png": "[encoded data removed]",
            "text/plain": [
              "<Figure size 432x288 with 1 Axes>"
            ]
          },
          "metadata": {
            "tags": [],
            "needs_background": "light"
          }
        }
      ]
    }
  ]
}